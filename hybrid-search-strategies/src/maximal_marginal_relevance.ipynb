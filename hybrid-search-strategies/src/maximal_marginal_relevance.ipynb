{
 "cells": [
  {
   "cell_type": "code",
   "execution_count": 1,
   "id": "45e142e6",
   "metadata": {},
   "outputs": [],
   "source": [
    "### Maximal Marginal Relevance\n",
    "# MMR (Maximal Marginal Relevance) is a powerful diversity-aware \n",
    "# retrieval technique used in information retrieval and RAG pipelines to balance relevance and novelty when selecting documents."
   ]
  },
  {
   "cell_type": "code",
   "execution_count": 2,
   "id": "90397568",
   "metadata": {},
   "outputs": [
    {
     "name": "stderr",
     "output_type": "stream",
     "text": [
      "c:\\Users\\hites\\OneDrive\\Desktop\\AI\\agentic-rag\\hybrid-search-strategies\\.venv\\Lib\\site-packages\\tqdm\\auto.py:21: TqdmWarning: IProgress not found. Please update jupyter and ipywidgets. See https://ipywidgets.readthedocs.io/en/stable/user_install.html\n",
      "  from .autonotebook import tqdm as notebook_tqdm\n"
     ]
    }
   ],
   "source": [
    "from langchain_community.vectorstores import FAISS\n",
    "from langchain_huggingface import HuggingFaceEmbeddings\n",
    "from langchain.document_loaders import TextLoader\n",
    "from langchain.text_splitter import RecursiveCharacterTextSplitter\n",
    "from langchain.chat_models import init_chat_model\n",
    "from langchain.prompts import PromptTemplate\n",
    "from langchain.chains.combine_documents import create_stuff_documents_chain\n",
    "from langchain.chains.retrieval import create_retrieval_chain"
   ]
  },
  {
   "cell_type": "code",
   "execution_count": 3,
   "id": "07a6ebf8",
   "metadata": {},
   "outputs": [],
   "source": [
    "import os\n",
    "from dotenv import load_dotenv\n",
    "\n",
    "load_dotenv()\n",
    "\n",
    "os.environ[\"OPENAI_API_KEY\"]=os.getenv(\"OPENAI_API_KEY\")\n",
    "os.environ[\"GROQ_API_KEY\"]=os.getenv(\"GROQ_API_KEY\")"
   ]
  },
  {
   "cell_type": "code",
   "execution_count": 12,
   "id": "5f29ad0f",
   "metadata": {},
   "outputs": [],
   "source": [
    "# Step 1: Load and chunk the document\n",
    "loader = TextLoader(\"data/langchain_rag_dataset.txt\")\n",
    "raw_docs = loader.load()\n",
    "splitter = RecursiveCharacterTextSplitter(chunk_size=300, chunk_overlap=50)\n",
    "chunks = splitter.split_documents(raw_docs)"
   ]
  },
  {
   "cell_type": "code",
   "execution_count": 13,
   "id": "2e30e94f",
   "metadata": {},
   "outputs": [],
   "source": [
    "# Step 2: FAISS Vector Store with HuggingFace Embeddings\n",
    "embedding_model = HuggingFaceEmbeddings(model_name=\"all-MiniLM-L6-v2\")\n",
    "vectorstore = FAISS.from_documents(chunks, embedding_model)"
   ]
  },
  {
   "cell_type": "code",
   "execution_count": 14,
   "id": "d1cc956b",
   "metadata": {},
   "outputs": [],
   "source": [
    "### Step 3: Create MMR Retirever\n",
    "retriever=vectorstore.as_retriever(\n",
    "    search_type=\"mmr\",\n",
    "    search_kwargs={\"k\":3}\n",
    ")"
   ]
  },
  {
   "cell_type": "code",
   "execution_count": 15,
   "id": "28a4347f",
   "metadata": {},
   "outputs": [],
   "source": [
    "# Step 4: Prompt and LLM\n",
    "prompt = PromptTemplate.from_template(\"\"\"\n",
    "Answer the question based on the context provided.\n",
    "\n",
    "Context:\n",
    "{context}\n",
    "\n",
    "Question: {input}\n",
    "\"\"\")\n",
    "llm=init_chat_model(\"groq:gemma2-9b-it\")"
   ]
  },
  {
   "cell_type": "code",
   "execution_count": 16,
   "id": "9652243e",
   "metadata": {},
   "outputs": [],
   "source": [
    "# Step 5: RAG Pipeline\n",
    "document_chain = create_stuff_documents_chain(llm=llm, prompt=prompt)\n",
    "rag_chain = create_retrieval_chain(retriever=retriever, combine_docs_chain=document_chain)"
   ]
  },
  {
   "cell_type": "code",
   "execution_count": 17,
   "id": "f7bc6865",
   "metadata": {},
   "outputs": [
    {
     "name": "stdout",
     "output_type": "stream",
     "text": [
      "✅ Answer:\n",
      " LangChain supports agents by allowing them to utilize tools like calculators, search APIs, custom functions, and interact with external APIs and databases. This enhances their capabilities to perform complex tasks. \n",
      "\n",
      "LangChain supports memory through:\n",
      "\n",
      "* **ConversationBufferMemory:**  Retains previous interactions for coherent multi-turn conversations.\n",
      "* **ConversationSummaryMemory:**  Summarizes past conversations, providing a condensed overview for context. \n",
      "\n",
      "\n",
      "This combination enables agents to access relevant information from past interactions and utilize appropriate tools to effectively carry out tasks. \n",
      "\n"
     ]
    }
   ],
   "source": [
    "# Step 6: Query\n",
    "query = {\"input\": \"How does LangChain support agents and memory?\"}\n",
    "response = rag_chain.invoke(query)\n",
    "\n",
    "print(\"✅ Answer:\\n\", response[\"answer\"])"
   ]
  },
  {
   "cell_type": "code",
   "execution_count": 18,
   "id": "0eb7d17f",
   "metadata": {},
   "outputs": [
    {
     "data": {
      "text/plain": [
       "{'input': 'How does LangChain support agents and memory?',\n",
       " 'context': [Document(id='4d52cfa1-e0ca-49cc-bf62-67a9bfbe27da', metadata={'source': 'data/langchain_rag_dataset.txt'}, page_content='Memory in LangChain helps models retain previous interactions, making multi-turn conversations more coherent.\\nAgents in LangChain can use tools like calculators, search APIs, or custom functions based on the instructions they receive.'),\n",
       "  Document(id='36a93edc-1e1f-4abd-9c78-7dce1cc04825', metadata={'source': 'data/langchain_rag_dataset.txt'}, page_content='LangChain agents can interact with external APIs and databases, enhancing the capabilities of LLM-powered applications.\\nRAG pipelines in LangChain involve document loading, splitting, embedding, retrieval, and LLM-based response generation.'),\n",
       "  Document(id='73983f89-9b48-45cd-beff-4e9a5b79fba7', metadata={'source': 'data/langchain_rag_dataset.txt'}, page_content='LangChain allows LLMs to act as agents that decide which tool to call and in what order during a task.\\nLangChain supports conversational memory using ConversationBufferMemory and summarization memory with ConversationSummaryMemory.')],\n",
       " 'answer': 'LangChain supports agents by allowing them to utilize tools like calculators, search APIs, custom functions, and interact with external APIs and databases. This enhances their capabilities to perform complex tasks. \\n\\nLangChain supports memory through:\\n\\n* **ConversationBufferMemory:**  Retains previous interactions for coherent multi-turn conversations.\\n* **ConversationSummaryMemory:**  Summarizes past conversations, providing a condensed overview for context. \\n\\n\\nThis combination enables agents to access relevant information from past interactions and utilize appropriate tools to effectively carry out tasks. \\n'}"
      ]
     },
     "execution_count": 18,
     "metadata": {},
     "output_type": "execute_result"
    }
   ],
   "source": [
    "response"
   ]
  },
  {
   "cell_type": "code",
   "execution_count": null,
   "id": "d9422e8d",
   "metadata": {},
   "outputs": [],
   "source": []
  }
 ],
 "metadata": {
  "kernelspec": {
   "display_name": "hybrid-search-strategies",
   "language": "python",
   "name": "python3"
  },
  "language_info": {
   "codemirror_mode": {
    "name": "ipython",
    "version": 3
   },
   "file_extension": ".py",
   "mimetype": "text/x-python",
   "name": "python",
   "nbconvert_exporter": "python",
   "pygments_lexer": "ipython3",
   "version": "3.12.7"
  }
 },
 "nbformat": 4,
 "nbformat_minor": 5
}
