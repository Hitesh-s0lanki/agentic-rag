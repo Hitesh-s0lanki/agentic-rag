{
 "cells": [
  {
   "cell_type": "code",
   "execution_count": 1,
   "id": "68a2d637",
   "metadata": {},
   "outputs": [],
   "source": [
    "# HyDE (Hypothetical Document Embeddings) is a retrieval technique where, instead of embedding the user’s query directly, you first generate a hypothetical answer (document) to the query using an LLM — and then embed that hypothetical document to search your vector store.\n",
    "\n",
    "# ➡️ HyDE bridges the gap between user intent and relevant content, especially when:\n",
    "\n",
    "# 1. Queries are short\n",
    "# 2. Language mismatch between query and documents\n",
    "# 3.You want to retrieve based on answer content, not question words"
   ]
  },
  {
   "cell_type": "code",
   "execution_count": 2,
   "id": "b75c33fb",
   "metadata": {},
   "outputs": [
    {
     "name": "stderr",
     "output_type": "stream",
     "text": [
      "c:\\Users\\hites\\OneDrive\\Desktop\\AI\\agentic-rag\\query-enhancement\\.venv\\Lib\\site-packages\\tqdm\\auto.py:21: TqdmWarning: IProgress not found. Please update jupyter and ipywidgets. See https://ipywidgets.readthedocs.io/en/stable/user_install.html\n",
      "  from .autonotebook import tqdm as notebook_tqdm\n"
     ]
    }
   ],
   "source": [
    "from langchain_community.document_loaders import WikipediaLoader\n",
    "from langchain.text_splitter import RecursiveCharacterTextSplitter\n",
    "from langchain_huggingface import HuggingFaceEmbeddings\n",
    "from langchain.vectorstores import Chroma"
   ]
  },
  {
   "cell_type": "code",
   "execution_count": 4,
   "id": "3f0516db",
   "metadata": {},
   "outputs": [],
   "source": [
    "# 1. Load and chunk your dataset\n",
    "chunk_size = 300\n",
    "chunk_overlap = 100\n",
    "\n",
    "# loading data\n",
    "loader = WikipediaLoader(query=\"Steve Jobs\", load_max_docs=5)\n",
    "documents = loader.load()\n",
    "\n",
    "# text splitting\n",
    "text_splitter = RecursiveCharacterTextSplitter(chunk_size = chunk_size, chunk_overlap = chunk_overlap)\n",
    "docs = text_splitter.split_documents(documents=documents)"
   ]
  },
  {
   "cell_type": "code",
   "execution_count": 5,
   "id": "8d6e18f7",
   "metadata": {},
   "outputs": [],
   "source": [
    "# 2. Build vector store\n",
    "from langchain.vectorstores import FAISS\n",
    "\n",
    "embeddings = HuggingFaceEmbeddings(model_name=\"all-MiniLM-L6-v2\")\n",
    "vectorstore = FAISS.from_documents(docs, embeddings)"
   ]
  },
  {
   "cell_type": "code",
   "execution_count": 6,
   "id": "8198b7ba",
   "metadata": {},
   "outputs": [],
   "source": [
    "# 3. Set up the LLM you’ll use to generate hypothetical answers\n",
    "import os\n",
    "from dotenv import load_dotenv\n",
    "from langchain.chat_models import init_chat_model\n",
    "\n",
    "load_dotenv()\n",
    "\n",
    "os.environ[\"GROQ_API_KEY\"]=os.getenv(\"GROQ_API_KEY\")\n",
    "\n",
    "llm = init_chat_model(\"groq:gemma2-9b-it\")"
   ]
  },
  {
   "cell_type": "code",
   "execution_count": 7,
   "id": "494f0b65",
   "metadata": {},
   "outputs": [],
   "source": [
    "from langchain.vectorstores import Chroma\n",
    "## creating vector store\n",
    "db = Chroma.from_documents(documents = docs,embedding=embeddings,persist_directory = \"output/steve_jobs_for_hyde.db\")\n",
    "##create the retriever\n",
    "base_retriever=db.as_retriever(search_kwargs = {\"k\":5})"
   ]
  },
  {
   "cell_type": "code",
   "execution_count": 8,
   "id": "c6057f87",
   "metadata": {},
   "outputs": [],
   "source": [
    "from langchain_core.output_parsers import StrOutputParser\n",
    "## Generating a prompt gor generating HyDE\n",
    "from langchain.prompts.chat import SystemMessagePromptTemplate, ChatPromptTemplate\n",
    "\n",
    "def get_hyde_doc(query):\n",
    "    template = \"\"\"Imagine you are an expert writing a detailed explanation on the topic: '{query}'\n",
    "    create a hypothetical answer for the topic\"\"\"\n",
    "\n",
    "    system_message_prompt = SystemMessagePromptTemplate.from_template(template = template)\n",
    "    chat_prompt = ChatPromptTemplate.from_messages([system_message_prompt])\n",
    "    messages = chat_prompt.format_prompt(query = query).to_messages()\n",
    "    print(messages)\n",
    "    response = llm.invoke(messages)\n",
    "    hypo_doc = response.content\n",
    "    return hypo_doc"
   ]
  },
  {
   "cell_type": "code",
   "execution_count": 9,
   "id": "d811f1bd",
   "metadata": {},
   "outputs": [
    {
     "name": "stdout",
     "output_type": "stream",
     "text": [
      "[SystemMessage(content=\"Imagine you are an expert writing a detailed explanation on the topic: 'When was Steve Jobs fired from Apple?'\\n    create a hypothetical answer for the topic\", additional_kwargs={}, response_metadata={})]\n",
      "## The Tumultuous Departure of a Visionary: Steve Jobs and his Ousting from Apple\n",
      "\n",
      "Steve Jobs's relationship with Apple was a rollercoaster ride, marked by both extraordinary triumphs and dramatic lows. While his vision and leadership were instrumental in Apple's rise to prominence, his personality and management style often clashed with the company's board and colleagues. This ultimately culminated in his highly publicized firing in 1985.\n",
      "\n",
      "**The Seeds of Discontent:**\n",
      "\n",
      "Jobs's departure wasn't a sudden event but rather the culmination of growing tensions. Several factors contributed to his downfall:\n",
      "\n",
      "* **Clashing Personalities:** Jobs, known for his demanding and sometimes abrasive leadership style, often clashed with CEO John Sculley, whom he himself had recruited. Their differing visions for Apple's future led to constant friction and power struggles.\n",
      "* **The Macintosh Debacle:** While groundbreaking in its design and capabilities, the Macintosh computer faced lukewarm reception and struggled to capture market share. This financial setback placed immense pressure on Jobs and fueled criticism of his leadership.\n",
      "* **Internal Power Struggle:** As the Macintosh project faced challenges, Jobs's influence within the company waned. A group of board members, led by Sculley, began to question his leadership and strategic direction.\n",
      "\n",
      "**The Final Showdown:**\n",
      "\n",
      "In September 1985, after a series of heated meetings and failed attempts at reconciliation, the Apple board voted to remove Jobs from his position as chairman and CEO. He was effectively forced out of the company he co-founded.\n",
      "\n",
      "**The Aftermath:**\n",
      "\n",
      "Jobs's firing sent shockwaves through the tech industry.  Many saw it as a tragic loss for Apple, while others believed it was a necessary step to ensure the company's future. After leaving Apple, Jobs founded NeXT, a computer company that developed advanced workstations. He also acquired Pixar, which went on to become a major player in the animation industry.\n",
      "\n",
      "**The Return of the Prodigal Son:**\n",
      "\n",
      "In 1997, facing financial struggles and declining market share, Apple acquired NeXT. This brought Jobs back to Apple, where he served as CEO once again. His return marked a turning point in Apple's history, leading to a period of unprecedented innovation and success.\n",
      "\n",
      "\n",
      "Job's tumultuous departure from Apple serves as a reminder that even visionary leaders can face challenges and setbacks. His story highlights the complexities of leadership, the importance of adaptability, and the enduring power of second chances.\n",
      "\n"
     ]
    }
   ],
   "source": [
    "query = 'When was Steve Jobs fired from Apple?'\n",
    "print(get_hyde_doc(query=query))"
   ]
  },
  {
   "cell_type": "code",
   "execution_count": 10,
   "id": "18f1fde7",
   "metadata": {},
   "outputs": [
    {
     "name": "stdout",
     "output_type": "stream",
     "text": [
      "[SystemMessage(content=\"Imagine you are an expert writing a detailed explanation on the topic: 'When was Steve Jobs fired from Apple?'\\n    create a hypothetical answer for the topic\", additional_kwargs={}, response_metadata={})]\n",
      "[Document(metadata={'title': 'Steve Jobs', 'summary': 'Steven Paul Jobs (February 24, 1955 – October 5, 2011) was an American businessman, inventor, and investor best known for co-founding the technology company Apple Inc. Jobs was also the founder of NeXT and chairman and majority shareholder of Pixar. He was a pioneer of the personal computer revolution of the 1970s and 1980s, along with his early business partner and fellow Apple co-founder Steve Wozniak.\\nJobs was born in San Francisco in 1955 and adopted shortly afterwards. He attended Reed College in 1972 before withdrawing that same year. In 1974, he traveled through India, seeking enlightenment before later studying Zen Buddhism. He and Wozniak co-founded Apple in 1976 to further develop and sell Wozniak\\'s Apple I personal computer. Together, the duo gained fame and wealth a year later with production and sale of the Apple II, one of the first highly successful mass-produced microcomputers. \\nJobs saw the commercial potential of the Xerox Alto in 1979, which was mouse-driven and had a graphical user interface (GUI). This led to the development of the largely unsuccessful Apple Lisa in 1983, followed by the breakthrough Macintosh in 1984, the first mass-produced computer with a GUI. The Macintosh launched the desktop publishing industry in 1985 (for example, the Aldus Pagemaker) with the addition of the Apple LaserWriter, the first laser printer to feature vector graphics and PostScript.\\nIn 1985, Jobs departed Apple after a long power struggle with the company\\'s board and its then-CEO, John Sculley. That same year, Jobs took some Apple employees with him to found NeXT, a computer platform development company that specialized in computers for higher-education and business markets, serving as its CEO. In 1986, he bought the computer graphics division of Lucasfilm, which was spun off independently as Pixar. Pixar produced the first computer-animated feature film, Toy Story (1995), and became a leading animation studio, producing dozens of commercially successful and critically acclaimed films.\\nIn 1997, Jobs returned to Apple as CEO after the company\\'s acquisition of NeXT. He was largely responsible for reviving Apple, which was on the verge of bankruptcy. He worked closely with British designer Jony Ive to develop a line of products and services that had larger cultural ramifications, beginning with the \"Think different\" advertising campaign, and leading to the iMac, iTunes, Mac OS X, Apple Store, iPod, iTunes Store, iPhone, App Store, and iPad. Jobs was also a board member at Gap Inc. from 1999 to 2002. In 2003, Jobs was diagnosed with a pancreatic neuroendocrine tumor. He died of tumor-related respiratory arrest in 2011; in 2022, he was posthumously awarded the Presidential Medal of Freedom. Since his death, he has won 141 patents; Jobs holds over 450 patents in total.', 'source': 'https://en.wikipedia.org/wiki/Steve_Jobs'}, page_content=\"In 1985, Jobs departed Apple after a long power struggle with the company's board and its then-CEO, John Sculley. That same year, Jobs took some Apple employees with him to found NeXT, a computer platform development company that specialized in computers for higher-education and business markets,\"), Document(metadata={'title': 'Steve Jobs (film)', 'source': 'https://en.wikipedia.org/wiki/Steve_Jobs_(film)', 'summary': \"Steve Jobs is a 2015 biographical drama film directed by Danny Boyle and written by Aaron Sorkin. A British-American co-production, it was adapted from the 2011 biography by Walter Isaacson and interviews conducted by Sorkin. The film covers fourteen years in the life of Apple Inc. co-founder Steve Jobs, specifically ahead of three press conferences he gave during that time: the formal unveiling of the Macintosh 128K on January 24, 1984; the unveiling of the NeXT Computer on October 12, 1988; and the unveiling of the iMac G3 on May 6, 1998. Jobs is portrayed by Michael Fassbender, with Kate Winslet as Joanna Hoffman, Seth Rogen as Steve Wozniak, and Jeff Daniels as John Sculley in supporting roles.\\nDevelopment began in 2011 after the rights to Isaacson's book were acquired. Filming began in January 2015. A variety of actors were considered and cast before Fassbender eventually took the role. Editing was extensive on the project, with editor Elliot Graham starting while the film was still shooting. Daniel Pemberton served as composer, with a focus on dividing the score into three distinguishable sections.\\nSteve Jobs premiered at the 2015 Telluride Film Festival on September 5, 2015, and began a limited release in New York City and Los Angeles on October 9, 2015. It opened nationwide in the United States on October 23, 2015, to positive reviews and grossed $34.4 million worldwide against a budget of $30 million. People close to Jobs such as Steve Wozniak and John Sculley praised the performances, but the film also received criticism for historical inaccuracy. Steve Jobs was nominated for Best Actor (Fassbender) and Best Supporting Actress (Winslet) at the 88th Academy Awards, and received numerous other accolades.\\n\\n\"}, page_content=\"Apple CEO John Sculley demands to know why the world believes he fired Jobs – Jobs was actually forced out by the Apple board, who were resolute on updating the Apple II following the Macintosh's lackluster sales. Despite Sculley's warnings, Jobs criticized the decision and dared them to cast a\"), Document(metadata={'source': 'https://en.wikipedia.org/wiki/Steve_Jobs_(film)', 'summary': \"Steve Jobs is a 2015 biographical drama film directed by Danny Boyle and written by Aaron Sorkin. A British-American co-production, it was adapted from the 2011 biography by Walter Isaacson and interviews conducted by Sorkin. The film covers fourteen years in the life of Apple Inc. co-founder Steve Jobs, specifically ahead of three press conferences he gave during that time: the formal unveiling of the Macintosh 128K on January 24, 1984; the unveiling of the NeXT Computer on October 12, 1988; and the unveiling of the iMac G3 on May 6, 1998. Jobs is portrayed by Michael Fassbender, with Kate Winslet as Joanna Hoffman, Seth Rogen as Steve Wozniak, and Jeff Daniels as John Sculley in supporting roles.\\nDevelopment began in 2011 after the rights to Isaacson's book were acquired. Filming began in January 2015. A variety of actors were considered and cast before Fassbender eventually took the role. Editing was extensive on the project, with editor Elliot Graham starting while the film was still shooting. Daniel Pemberton served as composer, with a focus on dividing the score into three distinguishable sections.\\nSteve Jobs premiered at the 2015 Telluride Film Festival on September 5, 2015, and began a limited release in New York City and Los Angeles on October 9, 2015. It opened nationwide in the United States on October 23, 2015, to positive reviews and grossed $34.4 million worldwide against a budget of $30 million. People close to Jobs such as Steve Wozniak and John Sculley praised the performances, but the film also received criticism for historical inaccuracy. Steve Jobs was nominated for Best Actor (Fassbender) and Best Supporting Actress (Winslet) at the 88th Academy Awards, and received numerous other accolades.\\n\\n\", 'title': 'Steve Jobs (film)'}, page_content='conducted by Sorkin. The film covers fourteen years in the life of Apple Inc. co-founder Steve Jobs, specifically ahead of three press conferences he gave during that time: the formal unveiling of the Macintosh 128K on January 24, 1984; the unveiling of the NeXT Computer on October 12, 1988; and'), Document(metadata={'title': 'Steve Jobs', 'summary': 'Steven Paul Jobs (February 24, 1955 – October 5, 2011) was an American businessman, inventor, and investor best known for co-founding the technology company Apple Inc. Jobs was also the founder of NeXT and chairman and majority shareholder of Pixar. He was a pioneer of the personal computer revolution of the 1970s and 1980s, along with his early business partner and fellow Apple co-founder Steve Wozniak.\\nJobs was born in San Francisco in 1955 and adopted shortly afterwards. He attended Reed College in 1972 before withdrawing that same year. In 1974, he traveled through India, seeking enlightenment before later studying Zen Buddhism. He and Wozniak co-founded Apple in 1976 to further develop and sell Wozniak\\'s Apple I personal computer. Together, the duo gained fame and wealth a year later with production and sale of the Apple II, one of the first highly successful mass-produced microcomputers. \\nJobs saw the commercial potential of the Xerox Alto in 1979, which was mouse-driven and had a graphical user interface (GUI). This led to the development of the largely unsuccessful Apple Lisa in 1983, followed by the breakthrough Macintosh in 1984, the first mass-produced computer with a GUI. The Macintosh launched the desktop publishing industry in 1985 (for example, the Aldus Pagemaker) with the addition of the Apple LaserWriter, the first laser printer to feature vector graphics and PostScript.\\nIn 1985, Jobs departed Apple after a long power struggle with the company\\'s board and its then-CEO, John Sculley. That same year, Jobs took some Apple employees with him to found NeXT, a computer platform development company that specialized in computers for higher-education and business markets, serving as its CEO. In 1986, he bought the computer graphics division of Lucasfilm, which was spun off independently as Pixar. Pixar produced the first computer-animated feature film, Toy Story (1995), and became a leading animation studio, producing dozens of commercially successful and critically acclaimed films.\\nIn 1997, Jobs returned to Apple as CEO after the company\\'s acquisition of NeXT. He was largely responsible for reviving Apple, which was on the verge of bankruptcy. He worked closely with British designer Jony Ive to develop a line of products and services that had larger cultural ramifications, beginning with the \"Think different\" advertising campaign, and leading to the iMac, iTunes, Mac OS X, Apple Store, iPod, iTunes Store, iPhone, App Store, and iPad. Jobs was also a board member at Gap Inc. from 1999 to 2002. In 2003, Jobs was diagnosed with a pancreatic neuroendocrine tumor. He died of tumor-related respiratory arrest in 2011; in 2022, he was posthumously awarded the Presidential Medal of Freedom. Since his death, he has won 141 patents; Jobs holds over 450 patents in total.', 'source': 'https://en.wikipedia.org/wiki/Steve_Jobs'}, page_content=\"In 1997, Jobs returned to Apple as CEO after the company's acquisition of NeXT. He was largely responsible for reviving Apple, which was on the verge of bankruptcy. He worked closely with British designer Jony Ive to develop a line of products and services that had larger cultural ramifications,\"), Document(metadata={'title': 'Steve Jobs (film)', 'source': 'https://en.wikipedia.org/wiki/Steve_Jobs_(film)', 'summary': \"Steve Jobs is a 2015 biographical drama film directed by Danny Boyle and written by Aaron Sorkin. A British-American co-production, it was adapted from the 2011 biography by Walter Isaacson and interviews conducted by Sorkin. The film covers fourteen years in the life of Apple Inc. co-founder Steve Jobs, specifically ahead of three press conferences he gave during that time: the formal unveiling of the Macintosh 128K on January 24, 1984; the unveiling of the NeXT Computer on October 12, 1988; and the unveiling of the iMac G3 on May 6, 1998. Jobs is portrayed by Michael Fassbender, with Kate Winslet as Joanna Hoffman, Seth Rogen as Steve Wozniak, and Jeff Daniels as John Sculley in supporting roles.\\nDevelopment began in 2011 after the rights to Isaacson's book were acquired. Filming began in January 2015. A variety of actors were considered and cast before Fassbender eventually took the role. Editing was extensive on the project, with editor Elliot Graham starting while the film was still shooting. Daniel Pemberton served as composer, with a focus on dividing the score into three distinguishable sections.\\nSteve Jobs premiered at the 2015 Telluride Film Festival on September 5, 2015, and began a limited release in New York City and Los Angeles on October 9, 2015. It opened nationwide in the United States on October 23, 2015, to positive reviews and grossed $34.4 million worldwide against a budget of $30 million. People close to Jobs such as Steve Wozniak and John Sculley praised the performances, but the film also received criticism for historical inaccuracy. Steve Jobs was nominated for Best Actor (Fassbender) and Best Supporting Actress (Winslet) at the 88th Academy Awards, and received numerous other accolades.\\n\\n\"}, page_content=\"By 1998, Apple has fired Sculley, purchased NeXT, and named Jobs CEO, and Jobs is about to unveil the iMac at Davies Symphony Hall. He is delighted by Hoffman's strong commercial forecasts but furious that Lisa ha\")]\n"
     ]
    }
   ],
   "source": [
    "matched_doc = base_retriever.invoke(get_hyde_doc(query))\n",
    "print(matched_doc)"
   ]
  },
  {
   "cell_type": "code",
   "execution_count": 11,
   "id": "26516aad",
   "metadata": {},
   "outputs": [],
   "source": [
    "### Langchain-HypotheticalDocumentEmbedder\n",
    "from langchain.chains.hyde.base import HypotheticalDocumentEmbedder\n",
    "\n",
    "from langchain.prompts import PromptTemplate\n",
    "from langchain_community.vectorstores import Chroma\n",
    "from langchain_community.embeddings import HuggingFaceEmbeddings\n",
    "from langchain.document_loaders import TextLoader\n",
    "from langchain.text_splitter import RecursiveCharacterTextSplitter\n",
    "from langchain.chains.combine_documents import create_stuff_documents_chain"
   ]
  },
  {
   "cell_type": "code",
   "execution_count": 13,
   "id": "5fff544c",
   "metadata": {},
   "outputs": [],
   "source": [
    "# Step 1: Load and split documents\n",
    "loader = TextLoader(\"data/langchain_crewai_dataset.txt\")\n",
    "docs = loader.load()\n",
    "splitter = RecursiveCharacterTextSplitter(chunk_size=300, chunk_overlap=50)\n",
    "chunks = splitter.split_documents(docs)"
   ]
  },
  {
   "cell_type": "code",
   "execution_count": 14,
   "id": "9e5cd8d4",
   "metadata": {},
   "outputs": [
    {
     "name": "stderr",
     "output_type": "stream",
     "text": [
      "C:\\Users\\hites\\AppData\\Local\\Temp\\ipykernel_9744\\2818700810.py:2: LangChainDeprecationWarning: The class `HuggingFaceEmbeddings` was deprecated in LangChain 0.2.2 and will be removed in 1.0. An updated version of the class exists in the :class:`~langchain-huggingface package and should be used instead. To use it run `pip install -U :class:`~langchain-huggingface` and import as `from :class:`~langchain_huggingface import HuggingFaceEmbeddings``.\n",
      "  base_embeddings = HuggingFaceEmbeddings(model_name=\"all-MiniLM-L6-v2\")\n"
     ]
    }
   ],
   "source": [
    "# Step 2: Set up LLM and embeddings\n",
    "base_embeddings = HuggingFaceEmbeddings(model_name=\"all-MiniLM-L6-v2\")"
   ]
  },
  {
   "cell_type": "code",
   "execution_count": 15,
   "id": "e65b4a5b",
   "metadata": {},
   "outputs": [],
   "source": [
    "# Step 3: HyDE Embedder using prompt_key='web_search'\n",
    "hyde_embedding_function = HypotheticalDocumentEmbedder.from_llm(\n",
    "    llm=llm,\n",
    "    base_embeddings=base_embeddings,\n",
    "    prompt_key=\"web_search\"\n",
    ")"
   ]
  },
  {
   "cell_type": "code",
   "execution_count": 16,
   "id": "32544414",
   "metadata": {},
   "outputs": [],
   "source": [
    "# Step 4: Store documents in Chroma with HyDE embeddings\n",
    "vectorstore = Chroma.from_documents(\n",
    "    documents=chunks,\n",
    "    embedding=hyde_embedding_function,\n",
    "    persist_directory=\"output/langchain\"\n",
    ")"
   ]
  },
  {
   "cell_type": "code",
   "execution_count": 17,
   "id": "22ab1c23",
   "metadata": {},
   "outputs": [],
   "source": [
    "# Step 5: RAG answer generation prompt\n",
    "rag_prompt = PromptTemplate.from_template(\"\"\"\n",
    "Use the context below to answer the question.\n",
    "\n",
    "Context:\n",
    "{context}\n",
    "\n",
    "Question: {input}\n",
    "\"\"\")\n",
    "rag_chain = create_stuff_documents_chain(llm=llm, prompt=rag_prompt)"
   ]
  },
  {
   "cell_type": "code",
   "execution_count": 18,
   "id": "1ceb51ae",
   "metadata": {},
   "outputs": [],
   "source": [
    "# Step 6: Final RAG Pipeline\n",
    "def hyde_rag_pipeline(query):\n",
    "    matched_docs = vectorstore.similarity_search(query, k=4)\n",
    "    print(matched_docs)\n",
    "    response = rag_chain.invoke({\n",
    "        \"input\": query,\n",
    "        \"context\": matched_docs\n",
    "    })\n",
    "    return response"
   ]
  },
  {
   "cell_type": "code",
   "execution_count": 19,
   "id": "76276869",
   "metadata": {},
   "outputs": [
    {
     "name": "stdout",
     "output_type": "stream",
     "text": [
      "[Document(metadata={'source': 'data/langchain_crewai_dataset.txt'}, page_content='LangChain offers memory modules like ConversationBufferMemory and ConversationSummaryMemory. These allow the LLM to maintain awareness of previous conversation turns or summarize long interactions to fit within token limits. (v10)'), Document(metadata={'source': 'data/langchain_crewai_dataset.txt'}, page_content='LangChain offers memory modules like ConversationBufferMemory and ConversationSummaryMemory. These allow the LLM to maintain awareness of previous conversation turns or summarize long interactions to fit within token limits. (v2)'), Document(metadata={'source': 'data/langchain_crewai_dataset.txt'}, page_content='LangChain offers memory modules like ConversationBufferMemory and ConversationSummaryMemory. These allow the LLM to maintain awareness of previous conversation turns or summarize long interactions to fit within token limits. (v4)'), Document(metadata={'source': 'data/langchain_crewai_dataset.txt'}, page_content='LangChain offers memory modules like ConversationBufferMemory and ConversationSummaryMemory. These allow the LLM to maintain awareness of previous conversation turns or summarize long interactions to fit within token limits. (v5)')]\n",
      "✅ Final Answer:\n",
      " LangChain provides memory modules called **ConversationBufferMemory** and **ConversationSummaryMemory**. \n",
      "\n",
      "\n",
      "\n"
     ]
    }
   ],
   "source": [
    "# Step 7: Run example query\n",
    "query = \"What memory modules does LangChain provide?\"\n",
    "answer = hyde_rag_pipeline(query)\n",
    "print(\"✅ Final Answer:\\n\", answer)"
   ]
  },
  {
   "cell_type": "code",
   "execution_count": 20,
   "id": "490a0dc2",
   "metadata": {},
   "outputs": [],
   "source": [
    "from langchain.prompts import PromptTemplate\n",
    "custom = PromptTemplate.from_template(\n",
    "    \"Generate a concise hypothetical answer for this topic: {query}\"\n",
    ")\n",
    "\n",
    "# Step 3: HyDE Embedder using prompt_key='web_search'\n",
    "hyde_embedding_function = HypotheticalDocumentEmbedder.from_llm(\n",
    "    llm=llm,\n",
    "    base_embeddings=base_embeddings,\n",
    "    custom_prompt=custom\n",
    ")"
   ]
  },
  {
   "cell_type": "code",
   "execution_count": null,
   "id": "230173ba",
   "metadata": {},
   "outputs": [],
   "source": []
  }
 ],
 "metadata": {
  "kernelspec": {
   "display_name": "query-enhancement",
   "language": "python",
   "name": "python3"
  },
  "language_info": {
   "codemirror_mode": {
    "name": "ipython",
    "version": 3
   },
   "file_extension": ".py",
   "mimetype": "text/x-python",
   "name": "python",
   "nbconvert_exporter": "python",
   "pygments_lexer": "ipython3",
   "version": "3.12.7"
  }
 },
 "nbformat": 4,
 "nbformat_minor": 5
}
