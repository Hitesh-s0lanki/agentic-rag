{
 "cells": [
  {
   "cell_type": "code",
   "execution_count": null,
   "id": "9e909b77",
   "metadata": {},
   "outputs": [
    {
     "name": "stderr",
     "output_type": "stream",
     "text": [
      "c:\\Users\\hites\\OneDrive\\Desktop\\AI\\agentic-rag\\rag-implementation\\.venv\\Lib\\site-packages\\tqdm\\auto.py:21: TqdmWarning: IProgress not found. Please update jupyter and ipywidgets. See https://ipywidgets.readthedocs.io/en/stable/user_install.html\n",
      "  from .autonotebook import tqdm as notebook_tqdm\n"
     ]
    }
   ],
   "source": [
    "import os\n",
    "from langgraph.prebuilt import create_react_agent\n",
    "from langchain_community.tools import ArxivQueryRun, WikipediaQueryRun\n",
    "from langchain_community.utilities import WikipediaAPIWrapper, ArxivAPIWrapper\n",
    "from langchain_community.vectorstores import FAISS\n",
    "from langchain_openai import OpenAIEmbeddings\n",
    "from langchain_community.document_loaders import WebBaseLoader\n",
    "from langgraph.graph import END\n",
    "from langgraph.graph import StateGraph\n",
    "from typing import Annotated, TypedDict, Sequence\n",
    "from langchain_core.messages import BaseMessage, HumanMessage, AIMessage\n",
    "from langgraph.graph.message import add_messages\n",
    "from langchain_classic.tools.retriever import create_retriever_tool"
   ]
  },
  {
   "cell_type": "code",
   "execution_count": null,
   "id": "e57a1ccc",
   "metadata": {},
   "outputs": [],
   "source": [
    "### Generic function to create a retireval tool\n",
    "def make_retriever_tool_from_text(file,name,desc):\n",
    "    docs=TextLoader(file,encoding=\"utf-8\").load()\n",
    "    chunks = RecursiveCharacterTextSplitter(chunk_size=500, chunk_overlap=50).split_documents(docs)\n",
    "    vs = FAISS.from_documents(chunks, OpenAIEmbeddings())\n",
    "    retriever = vs.as_retriever()\n",
    "\n",
    "    def tool_func(query:str)->str:\n",
    "        print(f\"📚 Using tool: {name}\")\n",
    "        results = retriever.invoke(query)\n",
    "        return \"\\n\\n\".join(doc.page_content for doc in results)\n",
    "    \n",
    "    return Tool(name=name,description=desc,func=tool_func)\n",
    "\n",
    "# Wikipedia Tool\n",
    "wiki_tool = Tool(\n",
    "    name=\"Wikipedia\",\n",
    "    description=\"Use this tool to fetch general world knowledge from Wikipedia.\",\n",
    "    func=WikipediaQueryRun(api_wrapper=WikipediaAPIWrapper())\n",
    ")\n",
    "\n",
    "# ArXiv Tool\n",
    "def arxiv_search(query: str) -> str:\n",
    "    print(\"🧪 Searching ArXiv...\")\n",
    "    results = ArxivLoader(query).load()\n",
    "    return \"\\n\\n\".join(doc.page_content[:1000] for doc in results[:2]) or \"No papers found.\"\n",
    "\n",
    "arxiv_tool = Tool(\n",
    "    name=\"ArxivSearch\",\n",
    "    description=\"Use this tool to fetch recent academic papers on technical topics.\",\n",
    "    func=arxiv_search\n",
    ")"
   ]
  },
  {
   "cell_type": "code",
   "execution_count": null,
   "id": "ae4d2d20",
   "metadata": {},
   "outputs": [],
   "source": [
    "internal_tool_1=make_retriever_tool_from_text(\n",
    "    \"data/sample_docs.txt\",\n",
    "    \"InternalTechDocs\",\n",
    "    \"Search internal tech documents for proprietary architecture and methods.\"\n",
    ")\n",
    "\n",
    "internal_tool_2 = make_retriever_tool_from_text(\n",
    "    \"data/research_notes.txt\",\n",
    "    \"InternalResearchNotes\",\n",
    "    \"Search internal research notes for experimental results and agent designs.\"\n",
    ")"
   ]
  },
  {
   "cell_type": "code",
   "execution_count": null,
   "id": "46248384",
   "metadata": {},
   "outputs": [],
   "source": [
    "tools=[wiki_tool,arxiv_tool,internal_tool_1,internal_tool_2]\n",
    "\n",
    "react_node=create_react_agent(llm,tools)"
   ]
  },
  {
   "cell_type": "code",
   "execution_count": null,
   "id": "4d3e83a2",
   "metadata": {},
   "outputs": [],
   "source": [
    "class AgentState(TypedDict):\n",
    "    messages: Annotated[Sequence[BaseMessage], add_messages]"
   ]
  },
  {
   "cell_type": "code",
   "execution_count": null,
   "id": "fa27938d",
   "metadata": {},
   "outputs": [],
   "source": [
    "builder = StateGraph(AgentState)\n",
    "builder.add_node(\"agentic_rag\", react_node)\n",
    "builder.set_entry_point(\"agentic_rag\")\n",
    "builder.add_edge(\"agentic_rag\", END)\n",
    "\n",
    "graph = builder.compile()\n",
    "graph"
   ]
  },
  {
   "cell_type": "code",
   "execution_count": null,
   "id": "7fb5758c",
   "metadata": {},
   "outputs": [],
   "source": [
    "query = \"What do our internal research notes say about transformer variants, and what does ArXiv suggest recently?\"\n",
    "\n",
    "state = {\"messages\": [HumanMessage(content=query)]}\n",
    "result = graph.invoke(state)\n",
    "\n",
    "print(\"\\n✅ Final Answer:\\n\", result[\"messages\"][-1].content)"
   ]
  }
 ],
 "metadata": {
  "kernelspec": {
   "display_name": ".venv",
   "language": "python",
   "name": "python3"
  },
  "language_info": {
   "codemirror_mode": {
    "name": "ipython",
    "version": 3
   },
   "file_extension": ".py",
   "mimetype": "text/x-python",
   "name": "python",
   "nbconvert_exporter": "python",
   "pygments_lexer": "ipython3",
   "version": "3.12.7"
  }
 },
 "nbformat": 4,
 "nbformat_minor": 5
}
